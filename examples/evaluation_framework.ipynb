{
 "cells": [
  {
   "cell_type": "markdown",
   "id": "4f8904e8",
   "metadata": {},
   "source": [
    "## Prerequisites\n",
    "\n",
    "Before starting this tutorial, make sure you have completed the following notebook:\n",
    "\n",
    "- [`association_data`](./association_data.ipynb):\n",
    "  This notebook covers the foundational concepts and classes (such as `AData`) that we will build upon in this tutorial.\n",
    "\n",
    "## Purpose of This Tutorial\n",
    "\n",
    "In this tutorial, we will explore how to use the **`netbalance`** package to evaluate a custom association prediction model on an arbitrary prediction task—such as **drug–target interaction** or **drug synergy prediction**.\n",
    "\n",
    "By the end of this tutorial, you will be able to:\n",
    "\n",
    "- Apply the `netbalance` evaluation framework to **any association prediction task**.\n",
    "- Integrate and evaluate **any classification model** within this framework.\n",
    "\n",
    "## Dataset and Task Overview\n",
    "\n",
    "For this tutorial, we use the **Sanger dataset** for the task of **drug synergy prediction**.  \n",
    "Our goal is to **train** and **evaluate** a **Random Forest classifier** on this task using the `netbalance` evaluation framework.\n",
    "\n",
    "## Preparing the Data\n",
    "\n",
    "To follow this tutorial, you first need to download our **data repository** and place it in the following path:\n",
    "\n",
    "`path_to_project/src/netbalance/data_repository`\n",
    "\n",
    "This repository includes:\n",
    "\n",
    "- The **Sanger dataset** files for drug synergy prediction.\n",
    "- Precomputed **feature vectors** for drugs and cell lines, borrowed from the *CCSynergy* paper.\n",
    "\n",
    "> **Note:** These feature vectors will save you time, as they allow you to focus on the evaluation framework rather than feature engineering.\n",
    "\n",
    "## Tutorial Roadmap\n",
    "\n",
    "In the following sections, we will go through these steps:\n",
    "\n",
    "1. [**Define a Dataset Object**](#dataset)\n",
    "   - Reads drug names, cell line names, and associations from the Sanger dataset.\n",
    "\n",
    "2. [**Understand `TGData`**](#tgdata) \n",
    "   - This class inherits from `AData`, which we explained in our previous tutorial.\n",
    "\n",
    "3. [**Create Config Objects**](#configs)\n",
    "   - Store parameters for our model and optimizer.\n",
    "\n",
    "4. [**Define a Feature Extractor**](#feature-extractor)  \n",
    "   - Provides an easy way to retrieve features for drugs and cell lines.\n",
    "\n",
    "5. [**Build a `ModelHandler` Object**](#modelhandler)  \n",
    "   - Responsible for defining a classifier, using the feature extractor, and making predictions.\n",
    "\n",
    "6. [**Implement a `HandlerFactory`**](#handler-factory)  \n",
    "   - A factory that creates `ModelHandler` instances for repeated cross-validation,  \n",
    "     ensuring a fresh model handler is used in each iteration.\n",
    "\n",
    "7. [**Define a `Trainer` Class**](#trainer)  \n",
    "   - Takes a `ModelHandler`, an `OptimizerConfig`, and `TGData`,  \n",
    "     then trains the model using the given optimizer configuration on the provided data.\n",
    "\n",
    "8. [**Run Evaluation Framework**](#evaluation-framework)  \n",
    "   - Train the model and evaluate it using **entity-balanced data** in a repeated cross validation setting."
   ]
  },
  {
   "cell_type": "markdown",
   "id": "8c83e44f",
   "metadata": {},
   "source": [
    "## Basic Imports"
   ]
  },
  {
   "cell_type": "markdown",
   "id": "675a41c3",
   "metadata": {},
   "source": [
    "We begin by importing the essential Python libraries required for this tutorial."
   ]
  },
  {
   "cell_type": "code",
   "execution_count": 1,
   "id": "e5ebf5c0",
   "metadata": {},
   "outputs": [],
   "source": [
    "import os\n",
    "from pathlib import Path\n",
    "from typing import Union\n",
    "\n",
    "import numpy as np\n",
    "import pandas as pd"
   ]
  },
  {
   "cell_type": "markdown",
   "id": "1b4d8dd4",
   "metadata": {},
   "source": [
    "## Dataset"
   ]
  },
  {
   "cell_type": "markdown",
   "id": "9b479835",
   "metadata": {},
   "source": [
    "Our first task is to define the **`ADataset`** class.  \n",
    "This class acts as a **handler** for loading and managing our association dataset,  \n",
    "providing a structured way to access entities (e.g., drugs, cell lines) and their associations.\n",
    "\n",
    "We have preprocessed the Sanger dataset into three files:\n",
    "\n",
    "- **`sanger_drug_drug_cell_associations.txt`** – Contains drug–drug–cell line associations.  \n",
    "- **`cell_line_names.csv`** – Lists all cell line names.  \n",
    "- **`drug_names.csv`** – Lists all drug names.\n",
    "\n",
    "We define three constant variables that store the file paths for these processed dataset files.  \n",
    "This makes it easier to reference them throughout our code without hardcoding paths multiple times."
   ]
  },
  {
   "cell_type": "code",
   "execution_count": 2,
   "id": "92587c57",
   "metadata": {},
   "outputs": [],
   "source": [
    "from netbalance.configs.common import PROCESSED_DATA_DIR\n",
    "\n",
    "dataset = \"sanger\"\n",
    "\n",
    "SANGER_PROCESSED_DATA_DIR = os.path.join(PROCESSED_DATA_DIR, dataset)\n",
    "\n",
    "SANGER_DATASET_FILE = os.path.join(\n",
    "    SANGER_PROCESSED_DATA_DIR, \"sanger_drug_drug_cell_associations.txt\"\n",
    ")\n",
    "SANGER_CELL_LINE_NAMES_FILE = os.path.join(\n",
    "    SANGER_PROCESSED_DATA_DIR, \"cell_line_names.csv\"\n",
    ")\n",
    "SANGER_DRUG_NAMES_FILE = os.path.join(SANGER_PROCESSED_DATA_DIR, \"drug_names.csv\")"
   ]
  },
  {
   "cell_type": "markdown",
   "id": "408cb920",
   "metadata": {},
   "source": [
    "We now define a **`SangerDataset`** class that inherits from `ADataset`.  \n",
    "`ADataset` already provides `get_association(...)`, but to use it we must implement two abstract methods:\n",
    "\n",
    "1. **`get_node_names()`**  \n",
    "   Return the lists of nodes for **each group** in the dataset.  \n",
    "   Here we have **three groups**:  \n",
    "   - `drug_A` (first drug in a pair)  \n",
    "   - `drug_B` (second drug in a pair)  \n",
    "   - `cell_line`\n",
    "\n",
    "2. **`get_dataset_file_path()`**  \n",
    "   Return the path to the **association file** (the file containing drug–drug–cell associations).\n",
    "\n",
    "We also need to pass the group names to the parent class `ADataset` as implemented in the `__init__` method."
   ]
  },
  {
   "cell_type": "code",
   "execution_count": 3,
   "id": "babb77fa",
   "metadata": {},
   "outputs": [],
   "source": [
    "from netbalance.features.bipartite_graph_dataset import ADataset\n",
    "\n",
    "\n",
    "class SangerDataset(ADataset):\n",
    "\n",
    "    def __init__(self) -> None:\n",
    "        super().__init__([\"drug1\", \"drug2\", \"cell-line\"])\n",
    "\n",
    "    def get_node_names(self):\n",
    "        return [\n",
    "            self.get_cluster_a_node_names(),\n",
    "            self.get_cluster_b_node_names(),\n",
    "            self.get_cluster_c_node_names(),\n",
    "        ]\n",
    "\n",
    "    def get_cluster_a_node_names(self):\n",
    "        names = pd.read_csv(SANGER_DRUG_NAMES_FILE, index_col=0)\n",
    "        return list(names.iloc[:, 0])\n",
    "\n",
    "    def get_cluster_b_node_names(self):\n",
    "        names = pd.read_csv(SANGER_DRUG_NAMES_FILE, index_col=0)\n",
    "        return list(names.iloc[:, 0])\n",
    "\n",
    "    def get_cluster_c_node_names(self):\n",
    "        names = pd.read_csv(SANGER_CELL_LINE_NAMES_FILE, index_col=0)\n",
    "        return list(names.iloc[:, 0])\n",
    "\n",
    "    def get_dataset_file_path(self):\n",
    "        return SANGER_DATASET_FILE"
   ]
  },
  {
   "cell_type": "markdown",
   "id": "9917fbd6",
   "metadata": {},
   "source": [
    "Once we create a `SangerDataset` object, we can easily access:\n",
    "\n",
    "- **Associations** – Drug–drug–cell triples from the dataset.  \n",
    "- **Node names** – The list of entities for each group (drugs and cell lines).  \n",
    "- **Cluster names** – Group labels corresponding to each entity type.\n",
    "\n",
    "This allows us to quickly inspect the dataset structure and verify that our loading logic works correctly."
   ]
  },
  {
   "cell_type": "code",
   "execution_count": 4,
   "id": "8f344c00",
   "metadata": {},
   "outputs": [
    {
     "name": "stdout",
     "output_type": "stream",
     "text": [
      "Type of associations: <class 'numpy.ndarray'>\n",
      "Shape of associations: (93496, 4)\n"
     ]
    }
   ],
   "source": [
    "ds = SangerDataset()\n",
    "\n",
    "associations = ds.get_associations(with_negatives=False)\n",
    "\n",
    "print(f\"Type of associations: {type(associations)}\")\n",
    "print(f\"Shape of associations: {associations.shape}\")"
   ]
  },
  {
   "cell_type": "markdown",
   "id": "b9b7c818",
   "metadata": {},
   "source": [
    "> **Note**: if we set `with_negatives=True`, it will use all possible associations except positives as negative associations. We can use this option when the dataset lacks negative associations."
   ]
  },
  {
   "cell_type": "code",
   "execution_count": 5,
   "id": "ab265a3c",
   "metadata": {},
   "outputs": [
    {
     "data": {
      "text/plain": [
       "array([[42, 43, 26,  0],\n",
       "       [29,  0, 70,  0],\n",
       "       [34, 57, 59,  0],\n",
       "       [40, 20, 91,  0],\n",
       "       [20, 14, 27,  0]], dtype=int32)"
      ]
     },
     "execution_count": 5,
     "metadata": {},
     "output_type": "execute_result"
    }
   ],
   "source": [
    "associations[:5]  # Each row is a tuple of (drug1, drug2, cell-line, positive/negative)"
   ]
  },
  {
   "cell_type": "code",
   "execution_count": 6,
   "id": "a7c68bd2",
   "metadata": {},
   "outputs": [
    {
     "data": {
      "text/plain": [
       "['drug1', 'drug2', 'cell-line']"
      ]
     },
     "execution_count": 6,
     "metadata": {},
     "output_type": "execute_result"
    }
   ],
   "source": [
    "ds.cluster_names"
   ]
  },
  {
   "cell_type": "code",
   "execution_count": 7,
   "id": "6f77a7ad",
   "metadata": {},
   "outputs": [
    {
     "data": {
      "text/plain": [
       "['5-Fluorouracil',\n",
       " 'Afatinib',\n",
       " 'Alisertib',\n",
       " 'Alpelisib',\n",
       " 'Axitinib',\n",
       " 'AZD4547',\n",
       " 'AZD6482',\n",
       " 'AZD7762',\n",
       " 'AZD8055',\n",
       " 'BI-2536']"
      ]
     },
     "execution_count": 7,
     "metadata": {},
     "output_type": "execute_result"
    }
   ],
   "source": [
    "ds.get_cluster_a_node_names()[:10]"
   ]
  },
  {
   "cell_type": "markdown",
   "id": "9096b617",
   "metadata": {},
   "source": [
    "## TGData"
   ]
  },
  {
   "cell_type": "markdown",
   "id": "3550bfff",
   "metadata": {},
   "source": [
    "In the previous tutorial, we saw how **`AData`** can be used to store and balance data using different methods.\n",
    "\n",
    "**`TGData`** (**Three-partite Graph Data**) is a subclass of `AData` that is specifically designed for datasets with **exactly three groups** of nodes.  \n",
    "In our case, these groups are:\n",
    "\n",
    "1. **Drug A**\n",
    "2. **Drug B**\n",
    "3. **Cell Line**\n",
    "\n",
    "Aside from fixing the number of groups to three, all other functionalities remain the same as in `AData`."
   ]
  },
  {
   "cell_type": "code",
   "execution_count": 8,
   "id": "4641c53b",
   "metadata": {},
   "outputs": [],
   "source": [
    "from netbalance.data.association_data import TGData\n",
    "\n",
    "tg_data = TGData(\n",
    "    associations=ds.get_associations(),\n",
    "    cluster_a_node_names=ds.get_cluster_a_node_names(),\n",
    "    cluster_b_node_names=ds.get_cluster_b_node_names(),\n",
    "    cluster_c_node_names=ds.get_cluster_c_node_names(),\n",
    ")"
   ]
  },
  {
   "cell_type": "code",
   "execution_count": 9,
   "id": "b839a0e4",
   "metadata": {},
   "outputs": [
    {
     "data": {
      "text/plain": [
       "(93496, 4)"
      ]
     },
     "execution_count": 9,
     "metadata": {},
     "output_type": "execute_result"
    }
   ],
   "source": [
    "tg_data.associations.shape"
   ]
  },
  {
   "cell_type": "code",
   "execution_count": 10,
   "id": "4007b989",
   "metadata": {},
   "outputs": [
    {
     "data": {
      "text/plain": [
       "(13684, 4)"
      ]
     },
     "execution_count": 10,
     "metadata": {},
     "output_type": "execute_result"
    }
   ],
   "source": [
    "tg_data.balance_data(balance_method=\"Balanced\")\n",
    "\n",
    "tg_data.associations.shape"
   ]
  },
  {
   "cell_type": "code",
   "execution_count": 11,
   "id": "06ee21c0",
   "metadata": {},
   "outputs": [
    {
     "name": "stdout",
     "output_type": "stream",
     "text": [
      "Number of associations after balancing: 13684\n",
      "Number of positive associations: 6842\n"
     ]
    }
   ],
   "source": [
    "print(f\"Number of associations after balancing: {tg_data.associations.shape[0]}\")\n",
    "print(\n",
    "    f\"Number of positive associations: {tg_data.associations[tg_data.associations[:, -1] == 1].shape[0]}\"\n",
    ")"
   ]
  },
  {
   "cell_type": "markdown",
   "id": "a72b8fbc",
   "metadata": {},
   "source": [
    "In our evaluation framework, **`TGData`** can be used to create datasets that are:\n",
    "\n",
    "- **Balanced** – Equal representation of positive and negative samples.  \n",
    "- **Entity-balanced** – Ensures each entity (drug or cell line) appears a balanced number of times across folds.  \n",
    "- **Unbalanced** – Keeps the original distribution of associations without enforcing balance.\n",
    "\n",
    "This flexibility allows us to test how different balancing strategies affect model performance."
   ]
  },
  {
   "cell_type": "markdown",
   "id": "046f9bbd",
   "metadata": {},
   "source": [
    "## Configs"
   ]
  },
  {
   "cell_type": "markdown",
   "id": "3ab06711",
   "metadata": {},
   "source": [
    "For this tutorial, we name our model **`rf_tutorial_model`**.\n",
    "\n",
    "Each model we define should have its own folder inside:\n",
    "`data_repository/models/`\n",
    "\n",
    "We have already created this folder for `rf_tutorial_model` and placed the **CCSynergy** feature files for both drugs and cell lines inside it.\n",
    "\n",
    "Next, we define a few constant variables:\n",
    "\n",
    "- **Result directory** – Path for storing the model’s outputs (metrics, logs, plots, etc.).\n",
    "- **Feature paths** – Locations of the precomputed drug and cell line feature files.\n",
    "\n",
    "These constants help us keep the code clean and make it easy to switch between models or feature sets without editing multiple code sections."
   ]
  },
  {
   "cell_type": "code",
   "execution_count": 12,
   "id": "1efcb00a",
   "metadata": {},
   "outputs": [],
   "source": [
    "from netbalance.configs.common import PROCESSED_DATA_DIR\n",
    "\n",
    "MODEL_NAME = \"rf_tutorial_model\"\n",
    "\n",
    "RTM_PROCESSED_DATA_DIR = os.path.join(PROCESSED_DATA_DIR, MODEL_NAME)\n",
    "RTM_RESULTS_DIR = os.path.join(RTM_PROCESSED_DATA_DIR, \"results\")\n",
    "\n",
    "RTM_CELL_FEATURES_DIR = os.path.join(RTM_PROCESSED_DATA_DIR, \"features/cells\")\n",
    "RTM_DRUG_FEATURES_DIR = os.path.join(RTM_PROCESSED_DATA_DIR, \"features/drugs\")"
   ]
  },
  {
   "cell_type": "markdown",
   "id": "2852cf0b",
   "metadata": {},
   "source": [
    "### Model Config\n",
    "\n",
    "We now define **`RTMModelConfig`**, a class that inherits from `ModelConfig` and stores the parameters of our model (including the feature extractor settings).\n",
    "\n",
    "For this tutorial, we set the following parameters:\n",
    "\n",
    "```python\n",
    "drug_feature_name = \"C4\"\n",
    "cell_feature_name = \"Cell2\"\n",
    "random_state = 42\n",
    "```\n",
    "\n",
    "\n",
    "+ `drug_feature_name` – Name of the drug feature set to use.\n",
    "+ `cell_feature_name` – Name of the cell line feature set to use.\n",
    "+ `random_state` – Seed for the Random Forest classifier to ensure reproducibility.\n",
    "\n",
    "> **Note**: The **CCSynergy** paper provides multiple feature sets for drugs and cell lines.\n",
    "Here, we explicitly select \"C4\" for drugs and \"Cell2\" for cell lines."
   ]
  },
  {
   "cell_type": "code",
   "execution_count": 13,
   "id": "22b2b606",
   "metadata": {},
   "outputs": [],
   "source": [
    "from netbalance.configs.general import ModelConfig\n",
    "\n",
    "\n",
    "class RTMModelConfig(ModelConfig):\n",
    "    def __init__(self):\n",
    "        super().__init__()\n",
    "        self.drug_feature_name = \"C4\"\n",
    "        self.cell_feature_name = \"Cell2\"\n",
    "\n",
    "        self.random_state = 42\n",
    "\n",
    "    def get_configuration(self):\n",
    "        return super().get_configuration() | {\n",
    "            \"drug_feature_name\": self.drug_feature_name,\n",
    "            \"cell_feature_name\": self.cell_feature_name,\n",
    "            \"random_state\": self.random_state,\n",
    "        }"
   ]
  },
  {
   "cell_type": "code",
   "execution_count": 14,
   "id": "fa69c080",
   "metadata": {},
   "outputs": [
    {
     "data": {
      "text/plain": [
       "{'model_name': None,\n",
       " 'embed_dim': None,\n",
       " 'device': None,\n",
       " 'drug_feature_name': 'C4',\n",
       " 'cell_feature_name': 'Cell2',\n",
       " 'random_state': 42}"
      ]
     },
     "execution_count": 14,
     "metadata": {},
     "output_type": "execute_result"
    }
   ],
   "source": [
    "model_config = RTMModelConfig()\n",
    "\n",
    "model_config.get_configuration()"
   ]
  },
  {
   "cell_type": "markdown",
   "id": "40e61491",
   "metadata": {},
   "source": [
    "> **Note:**: the `ModelConfig` class already provides some parameters which we see when using `get_configuration()`. These parameters won't be used in this tutorial."
   ]
  },
  {
   "cell_type": "markdown",
   "id": "d28d54bf",
   "metadata": {},
   "source": [
    "### Optimizer Config\n",
    "\n",
    "Next, we define **`RTMOptimizerConfig`**, a class that inherits from `OptimizerConfig` and stores the parameters used to train our model.\n",
    "\n",
    "For this tutorial, we only need a minimal configuration:\n",
    "\n",
    "```python\n",
    "threshold = 0.5\n",
    "```\n",
    "+ `threshold` – The threshold for classifying associations as positive or negative.\n",
    "\n",
    "Since we are using a Random Forest model without complex training schedules or learning rates,\n",
    "no additional optimizer parameters are required."
   ]
  },
  {
   "cell_type": "code",
   "execution_count": 15,
   "id": "ed85d192",
   "metadata": {},
   "outputs": [],
   "source": [
    "from netbalance.configs.general import OptimizerConfig\n",
    "\n",
    "\n",
    "class RTMOptimizerConfig(OptimizerConfig):\n",
    "\n",
    "    def __init__(self) -> None:\n",
    "        super().__init__()\n",
    "        self.threshold = 0.5\n",
    "\n",
    "    def get_configuration(self):\n",
    "        return super().get_configuration()"
   ]
  },
  {
   "cell_type": "code",
   "execution_count": 16,
   "id": "5fb13ca7",
   "metadata": {},
   "outputs": [
    {
     "data": {
      "text/plain": [
       "{'optimizer': None,\n",
       " 'lr': None,\n",
       " 'batch_size': None,\n",
       " 'n_epoch': None,\n",
       " 'exp_name': None,\n",
       " 'save': False,\n",
       " 'save_path': None,\n",
       " 'device': 'cpu',\n",
       " 'report_size': 100,\n",
       " 'threshold': 0.5}"
      ]
     },
     "execution_count": 16,
     "metadata": {},
     "output_type": "execute_result"
    }
   ],
   "source": [
    "optimizer_config = RTMOptimizerConfig()\n",
    "\n",
    "optimizer_config.get_configuration()"
   ]
  },
  {
   "cell_type": "markdown",
   "id": "b3d3c7b7",
   "metadata": {},
   "source": [
    "## Feature Extractor\n",
    "\n",
    "We now define **`RTMFeatureExtractor`**, a class that inherits from `FeatureExtractor`.  \n",
    "This class is responsible for preparing and serving features to our model.\n",
    "\n",
    "It implements two key methods:\n",
    "\n",
    "1. **`build()`**  \n",
    "   - Called when we want to train the model.  \n",
    "   - Loads the drug and cell line features from files (specified in the model configuration).\n",
    "\n",
    "2. **`extract_features(a_nodes, b_nodes, c_nodes)`**  \n",
    "   - Takes three lists of nodes.  \n",
    "   - Retrieves the corresponding feature vectors for each node.  \n",
    "   - Concatenates these vectors into a single feature vector for each triplet,  \n",
    "     so that the model can directly use it for prediction.\n",
    "\n",
    "---\n",
    "\n",
    "**Why this matters:**  \n",
    "By separating **feature loading** (`build`) from **feature retrieval** (`extract_features`),  \n",
    "we ensure that features are loaded only once and can be efficiently reused during training and evaluation.\n"
   ]
  },
  {
   "cell_type": "code",
   "execution_count": 17,
   "id": "903255db",
   "metadata": {},
   "outputs": [],
   "source": [
    "from netbalance.methods.general import FeatureExtractor\n",
    "\n",
    "\n",
    "class RTMFeatureExtractor(FeatureExtractor):\n",
    "\n",
    "    def __init__(\n",
    "        self,\n",
    "        drug_feature_name,\n",
    "        cell_feature_name,\n",
    "    ):\n",
    "        super().__init__()\n",
    "\n",
    "        self.drug_feature_name = drug_feature_name\n",
    "        self.cell_feature_name = cell_feature_name\n",
    "        self.drug_file = Path(f\"{RTM_DRUG_FEATURES_DIR}/{drug_feature_name}.txt\")\n",
    "        self.cell_file = Path(f\"{RTM_CELL_FEATURES_DIR}/{cell_feature_name}.txt\")\n",
    "\n",
    "    def build(self):\n",
    "        self.drug_features = np.loadtxt(self.drug_file, delimiter=\",\")\n",
    "        self.cell_features = np.loadtxt(self.cell_file, delimiter=\",\")\n",
    "\n",
    "    def extract_features(\n",
    "        self,\n",
    "        a_nodes: Union[list[int], np.ndarray],\n",
    "        b_nodes: Union[list[int], np.ndarray],\n",
    "        c_nodes: Union[list[int], np.ndarray],\n",
    "    ):\n",
    "        d1 = self.drug_features[a_nodes]\n",
    "        d2 = self.drug_features[b_nodes]\n",
    "        c = self.cell_features[c_nodes]\n",
    "        features = np.concatenate([d1, d2, c], axis=1)\n",
    "        return features"
   ]
  },
  {
   "cell_type": "code",
   "execution_count": 18,
   "id": "bf1c8791",
   "metadata": {},
   "outputs": [
    {
     "name": "stdout",
     "output_type": "stream",
     "text": [
      "Type of features: <class 'numpy.ndarray'>\n",
      "Shape of features: (2, 356)\n"
     ]
    }
   ],
   "source": [
    "fe = RTMFeatureExtractor(\n",
    "    drug_feature_name=model_config.drug_feature_name,\n",
    "    cell_feature_name=model_config.cell_feature_name,\n",
    ")\n",
    "fe.build()\n",
    "\n",
    "features = fe.extract_features(  # Here we want to extract features for [0, 3, 6] and [1, 4, 7] triplets\n",
    "    a_nodes=[0, 1],\n",
    "    b_nodes=[3, 4],\n",
    "    c_nodes=[6, 7],\n",
    ")\n",
    "\n",
    "print(f\"Type of features: {type(features)}\")\n",
    "print(f\"Shape of features: {features.shape}\")"
   ]
  },
  {
   "cell_type": "markdown",
   "id": "424ea613",
   "metadata": {},
   "source": [
    "## ModelHandler\n",
    "\n",
    "A **Model Handler** encapsulates **both** the classifier and the **feature extractor**, and exposes a uniform API to **predict**, and **summarize** models within the evaluation framework.\n",
    "\n",
    "In our case, `RTMModelHandler` will:\n",
    "\n",
    "- Hold a **Random Forest** classifier.\n",
    "- Hold the **`RTMFeatureExtractor`**.\n",
    "- Implement prediction using these two components.\n",
    "\n",
    "### Methods to implement\n",
    "\n",
    "- **`predict_impl(node_lists)`**  \n",
    "  Given three lists of nodes, use the feature extractor to obtain features and return model scores/probabilities.\n",
    "\n",
    "- **`destroy()`**  \n",
    "  Clean up large objects (model, feature extractor caches) after each cross-validation fold to free memory.\n",
    "\n",
    "- **`summary()`**  \n",
    "  Return a description of the model configuration.\n",
    "\n",
    "- **`_build_model()`**  \n",
    "  Construct and return the underlying classifier (here: a **RandomForestClassifier**).\n",
    "\n",
    "- **`_build_feature_extractor()`**  \n",
    "  Construct and return the feature extractor (here: **`RTMFeatureExtractor`**)."
   ]
  },
  {
   "cell_type": "code",
   "execution_count": 19,
   "id": "4b106142",
   "metadata": {},
   "outputs": [],
   "source": [
    "from sklearn.ensemble import RandomForestClassifier\n",
    "\n",
    "from netbalance.models.interface import AModelHandler\n",
    "\n",
    "\n",
    "class RTMModelHandler(AModelHandler):\n",
    "\n",
    "    def __init__(\n",
    "        self,\n",
    "        model_config: RTMModelConfig,\n",
    "    ):\n",
    "        super().__init__(model_config)\n",
    "\n",
    "    def predict_impl(self, node_lists: Union[list[int], np.ndarray]):\n",
    "        a_nodes, b_nodes, c_nodes = node_lists\n",
    "        features = self.fe.extract_features(a_nodes, b_nodes, c_nodes)\n",
    "        preds = self.model.predict_proba(features)[:, 1]\n",
    "        return preds\n",
    "\n",
    "    def destroy(self):\n",
    "        del self.model\n",
    "        del self.fe\n",
    "\n",
    "    def summary(self):\n",
    "        return str(self.model)\n",
    "\n",
    "    def _build_model(self):\n",
    "        return RandomForestClassifier(random_state=0)\n",
    "\n",
    "    def _build_feature_extractor(self):\n",
    "        return RTMFeatureExtractor(\n",
    "            self.model_config.drug_feature_name, self.model_config.cell_feature_name\n",
    "        )"
   ]
  },
  {
   "cell_type": "code",
   "execution_count": 20,
   "id": "23e18fff",
   "metadata": {},
   "outputs": [
    {
     "data": {
      "text/plain": [
       "'RandomForestClassifier(random_state=0)'"
      ]
     },
     "execution_count": 20,
     "metadata": {},
     "output_type": "execute_result"
    }
   ],
   "source": [
    "model_handler = RTMModelHandler(model_config)\n",
    "model_handler.summary()"
   ]
  },
  {
   "cell_type": "code",
   "execution_count": 21,
   "id": "ad7d4c67",
   "metadata": {},
   "outputs": [
    {
     "data": {
      "text/plain": [
       "array([0.7 , 0.22])"
      ]
     },
     "execution_count": 21,
     "metadata": {},
     "output_type": "execute_result"
    }
   ],
   "source": [
    "# Train the model\n",
    "model_handler.fe.build()\n",
    "model_handler.model.fit(\n",
    "    model_handler.fe.extract_features(\n",
    "        a_nodes=[0, 1],  # drug 1 indices\n",
    "        b_nodes=[3, 4],  # drug 2 indices\n",
    "        c_nodes=[6, 7],  # cell line indices\n",
    "    ),\n",
    "    np.array([1, 0]),  # labels for the above nodes\n",
    ")\n",
    "\n",
    "# Predict using the model\n",
    "model_handler.predict(\n",
    "    node_lists=(\n",
    "        [0, 1],  # drug 1 indices (a_nodes)\n",
    "        [3, 4],  # drug 2 indices (b_nodes)\n",
    "        [6, 7],  # cell line indices (c_nodes)\n",
    "    )\n",
    ")"
   ]
  },
  {
   "cell_type": "markdown",
   "id": "757a40b2",
   "metadata": {},
   "source": [
    "## Handler Factory\n",
    "\n",
    "For **cross-validation**, we need a **fresh model handler** for every fold to avoid any leakage from previously fitted models or cached features.  \n",
    "We create **`RTMHandlerFactory`**, which inherits from `HandlerFactory` and exposes a `create_handler()` method that returns a **new `RTMModelHandler`** instance each time it’s called."
   ]
  },
  {
   "cell_type": "code",
   "execution_count": 22,
   "id": "d039f8a4",
   "metadata": {},
   "outputs": [],
   "source": [
    "from netbalance.models.interface import HandlerFactory\n",
    "\n",
    "\n",
    "class RTMHandlerFactory(HandlerFactory):\n",
    "    def __init__(self, model_config: RTMModelConfig) -> None:\n",
    "        super().__init__()\n",
    "        self.model_config = model_config\n",
    "\n",
    "    def create_handler(self) -> RTMModelHandler:\n",
    "        return RTMModelHandler(self.model_config)"
   ]
  },
  {
   "cell_type": "code",
   "execution_count": 23,
   "id": "337f7cd6",
   "metadata": {},
   "outputs": [
    {
     "data": {
      "text/plain": [
       "'RandomForestClassifier(random_state=0)'"
      ]
     },
     "execution_count": 23,
     "metadata": {},
     "output_type": "execute_result"
    }
   ],
   "source": [
    "model_factory = RTMHandlerFactory(model_config)\n",
    "model_handler = model_factory.create_handler()\n",
    "model_handler.summary()"
   ]
  },
  {
   "cell_type": "markdown",
   "id": "8bf3e93a",
   "metadata": {},
   "source": [
    "## Trainer\n",
    "\n",
    "The **`RTMTrainer`** extends `Trainer` and implements a `train(...)` method that:\n",
    "\n",
    "1. Receives a **`ModelHandler`**, a **`TGData`** object (the **training** data), and an **`OptimizerConfig`**.\n",
    "2. Uses the handler’s **feature extractor** to build feature matrices from triplets.\n",
    "3. **Fits** the underlying model on the training data.\n",
    "4. **Evaluates on the training set** (as requested) and returns the metrics."
   ]
  },
  {
   "cell_type": "code",
   "execution_count": 24,
   "id": "dc6d8e47",
   "metadata": {},
   "outputs": [],
   "source": [
    "from netbalance.evaluation import Result\n",
    "from netbalance.evaluation.utils import evaluate_binary_classification_simple\n",
    "from netbalance.optimization.interface import Trainer\n",
    "\n",
    "\n",
    "class RTMTrainer(Trainer):\n",
    "\n",
    "    def train(\n",
    "        self,\n",
    "        model_handler: RTMModelHandler,\n",
    "        data: TGData,\n",
    "        config: RTMOptimizerConfig,\n",
    "    ) -> Result:\n",
    "        model_handler.fe.build()  # First we build the feature extractor\n",
    "\n",
    "        associations = data.associations\n",
    "        dp_embed = (\n",
    "            model_handler.fe.extract_features(  # Extract features for the associations\n",
    "                associations[:, 0], associations[:, 1], associations[:, 2]\n",
    "            )\n",
    "        )\n",
    "        y = np.array(associations[:, -1].tolist(), dtype=np.float32).reshape(\n",
    "            -1\n",
    "        )  # Labels\n",
    "        model_handler.model.fit(dp_embed, y)  # Train the model\n",
    "\n",
    "        # Evaluate on the same training data\n",
    "        preds = model_handler.predict(\n",
    "            [data.associations[:, i] for i in range(data.associations.shape[1] - 1)]\n",
    "        )\n",
    "        result = evaluate_binary_classification_simple(\n",
    "            data.associations[:, -1], preds.reshape(-1), config.threshold\n",
    "        )\n",
    "        return result"
   ]
  },
  {
   "cell_type": "code",
   "execution_count": 25,
   "id": "18112ce8",
   "metadata": {},
   "outputs": [
    {
     "data": {
      "text/plain": [
       "np.float64(1.0)"
      ]
     },
     "execution_count": 25,
     "metadata": {},
     "output_type": "execute_result"
    }
   ],
   "source": [
    "model_handler = model_factory.create_handler()\n",
    "data = TGData(\n",
    "    associations=associations[:100],\n",
    "    cluster_a_node_names=ds.get_cluster_a_node_names(),\n",
    "    cluster_b_node_names=ds.get_cluster_b_node_names(),\n",
    "    cluster_c_node_names=ds.get_cluster_c_node_names(),\n",
    ")\n",
    "trainer = RTMTrainer()\n",
    "result = trainer.train(\n",
    "    model_handler=model_handler,\n",
    "    data=data,\n",
    "    config=optimizer_config,\n",
    ")\n",
    "result.auc"
   ]
  },
  {
   "cell_type": "code",
   "execution_count": 26,
   "id": "a22a7288",
   "metadata": {},
   "outputs": [
    {
     "data": {
      "text/plain": [
       "array([0.05, 0.18])"
      ]
     },
     "execution_count": 26,
     "metadata": {},
     "output_type": "execute_result"
    }
   ],
   "source": [
    "model_handler.predict(\n",
    "    node_lists=(\n",
    "        [0, 1],  # drug 1 indices (a_nodes)\n",
    "        [3, 4],  # drug 2 indices (b_nodes)\n",
    "        [6, 7],  # cell line indices (c_nodes)\n",
    "    )\n",
    ")"
   ]
  },
  {
   "cell_type": "markdown",
   "id": "4baaaa91",
   "metadata": {},
   "source": [
    "## Evaluation Framework\n",
    "\n",
    "Our evaluation follows a **two-stage** process. This design separates **model training/testing** from **post-hoc analysis**, making it easier to compare models fairly and to explore different balancing strategies without retraining.\n",
    "\n",
    "---\n",
    "\n",
    "- Stage 1 — Repeated Cross-Validation (store raw test predictions)\n",
    "    - We run **repeated K-fold cross-validation**.\n",
    "    - **Do not balance the test folds.** We keep their natural distribution.\n",
    "    - For each fold, we **store the model’s predictions** on the test set to disk.  \n",
    "    This lets us later build multiple sub–test sets and recompute metrics **without retraining**.\n",
    "\n",
    "- Stage 2 — Post-hoc Evaluation on Balanced / Entity-Balanced Sub-tests\n",
    "    - We load the stored predictions from Stage 1 (no retraining).\n",
    "    - For each fold, we construct sub–test sets using either:\n",
    "        - Balanced sampling (positives vs. negatives), or\n",
    "        - Entity-balanced sampling (ensures fair appearance of each drug/cell), or\n",
    "        - Full Test (original distribution, for reference).\n",
    "    - We compute evaluation metrics (e.g., ROC-AUC, AUPR, ACC@0.5, F1@0.5, Hit@K if desired).\n",
    "    - We store per–subset and aggregated metrics for the model."
   ]
  },
  {
   "cell_type": "markdown",
   "id": "b26e20e5",
   "metadata": {},
   "source": [
    "### Stage 1\n",
    "\n",
    "To execute **Stage 1**, we’ll use the `repeated_cross_validation` function, which automates training and prediction across folds/repeats.  \n",
    "We’ll also import `TGTrainTestSpliter`, which controls how the data is split into **train** and **test** sets for each fold."
   ]
  },
  {
   "cell_type": "code",
   "execution_count": 27,
   "id": "20212655",
   "metadata": {},
   "outputs": [],
   "source": [
    "from netbalance.data.association_data import TGTrainTestSpliter\n",
    "from netbalance.evaluation import repeated_cross_validation"
   ]
  },
  {
   "cell_type": "markdown",
   "id": "b4c01661",
   "metadata": {},
   "source": [
    "Before running Stage 1, define a few **experiment-level parameters**—especially how many **repeats** you want in repeated cross-validation."
   ]
  },
  {
   "cell_type": "code",
   "execution_count": 28,
   "id": "57a8402f",
   "metadata": {},
   "outputs": [],
   "source": [
    "num_cross_validation = 2  # Number of cross-validations each with k folds\n",
    "\n",
    "train_neg_samp_method = \"beta\"  # beta is equivalent to balanced sampling\n",
    "\n",
    "splitter_kwargs = {  # Parameters for the cross-validation splitter\n",
    "    \"k\": 5,  # Number of folds for cross-validation\n",
    "    \"train_balance\": True,  # Whether to balance the training data\n",
    "    \"train_balance_kwargs\": {  # Parameters for balancing the training data\n",
    "        \"balance_method\": train_neg_samp_method,\n",
    "    },\n",
    "}\n",
    "\n",
    "model_result_dir = os.path.join(  # Directory to save the predictions of the model\n",
    "    RTM_RESULTS_DIR,\n",
    "    f\"preds\",\n",
    "    f\"dataset_{dataset}\",\n",
    "    f\"train_neg_samp_{train_neg_samp_method}\",\n",
    ")"
   ]
  },
  {
   "cell_type": "markdown",
   "id": "e4c6ed90",
   "metadata": {},
   "source": [
    "The `repeated_cross_validation` function expects a **`get_data`** parameter:  \n",
    "a **callable that returns a fresh `TGData` instance**. It is called **once per repeat**, ensuring that every repeat starts from a clean dataset object (no cached state or leakage)."
   ]
  },
  {
   "cell_type": "code",
   "execution_count": 29,
   "id": "ace139f2",
   "metadata": {},
   "outputs": [],
   "source": [
    "ds = SangerDataset()\n",
    "\n",
    "\n",
    "def get_data():\n",
    "    return TGData(\n",
    "        associations=ds.get_associations(with_negatives=False),\n",
    "        cluster_a_node_names=ds.get_cluster_a_node_names(),\n",
    "        cluster_b_node_names=ds.get_cluster_b_node_names(),\n",
    "        cluster_c_node_names=ds.get_cluster_c_node_names(),\n",
    "    )"
   ]
  },
  {
   "cell_type": "code",
   "execution_count": 30,
   "id": "9391c222",
   "metadata": {},
   "outputs": [
    {
     "name": "stderr",
     "output_type": "stream",
     "text": [
      "Repeated Cross Validation: 100%|██████████| 10/10 [00:25<00:00,  2.57s/it]\n"
     ]
    }
   ],
   "source": [
    "repeated_cross_validation(\n",
    "    get_data=get_data,\n",
    "    SplitterClass=TGTrainTestSpliter,\n",
    "    handler_factory=RTMHandlerFactory(model_config=RTMModelConfig()),\n",
    "    trainer=RTMTrainer(),\n",
    "    optimizer_config=RTMOptimizerConfig(),\n",
    "    num_cross_validation=num_cross_validation,\n",
    "    save_preds_dir=model_result_dir,\n",
    "    splitter_kwargs=splitter_kwargs,\n",
    "    parallel=False,  # Set to True for parallel execution\n",
    ")"
   ]
  },
  {
   "cell_type": "markdown",
   "id": "138d05ab",
   "metadata": {},
   "source": [
    "> **Note**: As you can see, we did 10 training/test pairs in this example, because we set `num_cross_validation=2` and `splitter_kwargs[\"k\"]=5`."
   ]
  },
  {
   "cell_type": "code",
   "execution_count": 31,
   "id": "a9fae803",
   "metadata": {},
   "outputs": [
    {
     "name": "stdout",
     "output_type": "stream",
     "text": [
      "/Users/ahmadian/Documents/projects/netbalance/src/netbalance/data_repository/processed/rf_tutorial_model/results/preds/dataset_sanger/train_neg_samp_beta\n"
     ]
    }
   ],
   "source": [
    "# You can now check the `model_result_dir` for the saved predictions\n",
    "print(model_result_dir)"
   ]
  },
  {
   "cell_type": "markdown",
   "id": "1d0aad2a",
   "metadata": {},
   "source": [
    "### Stage 2\n",
    "\n",
    "Stage 2 consumes the **saved test predictions** from Stage 1 and performs **post-hoc evaluation** under different sampling strategies (balanced, entity-balanced, or unbalanced). You’ll mainly use two helper functions:\n",
    "\n",
    "- **`get_result_of_rcv`**  \n",
    "  Loads per-fold predictions, **performs the requested balancing**, and computes metrics (e.g., ROC-AUC, AUPR, accuracy/F1 at a threshold, optional Hit@K).  \n",
    "  It returns a structured result object/table for downstream processing.\n",
    "\n",
    "- **`process_results`**  \n",
    "  Takes the output of `get_result_of_rcv`, **persists the metrics** to disk, and **renders figures** such as ROC curves and Hit@K plots.\n"
   ]
  },
  {
   "cell_type": "code",
   "execution_count": 32,
   "id": "592551c7",
   "metadata": {},
   "outputs": [],
   "source": [
    "from netbalance.evaluation.general import get_result_of_rcv\n",
    "from netbalance.utils.result import process_results"
   ]
  },
  {
   "cell_type": "markdown",
   "id": "c7096899",
   "metadata": {},
   "source": [
    "Before running Stage 2, specify how many **sub–test sets** to create per test fold and **how to balance** them."
   ]
  },
  {
   "cell_type": "code",
   "execution_count": 33,
   "id": "64cf2893",
   "metadata": {},
   "outputs": [],
   "source": [
    "num_negative_sampling = 3  # How many sub-test sets to create by the balancing method\n",
    "\n",
    "test_balance_method = \"rho\"  # rho is equivalent to entity-balanced sampling\n",
    "test_balance_kwargs = {\n",
    "    \"max_iter\": 20000,\n",
    "    \"delta\": 0.1,\n",
    "    \"cooling_rate\": 0.99,\n",
    "    \"initial_temp\": 40.0,\n",
    "    \"ent_desired\": 1.0,\n",
    "    \"shrinkage\": 1.0,\n",
    "}"
   ]
  },
  {
   "cell_type": "code",
   "execution_count": 34,
   "id": "b8731f04",
   "metadata": {},
   "outputs": [
    {
     "name": "stderr",
     "output_type": "stream",
     "text": [
      "Calc Result of RCV: 100%|██████████| 30/30 [00:04<00:00,  6.89it/s]\n"
     ]
    }
   ],
   "source": [
    "results = get_result_of_rcv(\n",
    "    save_preds_dir=model_result_dir,\n",
    "    node_names=ds.get_node_names(),\n",
    "    num_cross_validation=num_cross_validation,\n",
    "    num_negative_sampling=num_negative_sampling,\n",
    "    test_balance_method=test_balance_method,\n",
    "    test_balance_kwargs=test_balance_kwargs,\n",
    "    dataset_name=dataset,\n",
    "    parallel=False,  # Set to True for parallel execution\n",
    ")"
   ]
  },
  {
   "cell_type": "markdown",
   "id": "7611a443",
   "metadata": {},
   "source": [
    "The output of `get_result_of_rcv` is an **`ACrossValidationResult`** object.\n",
    "\n",
    "- **Per–sub-test results** — a list where **each entry corresponds to one sub-test set** (i.e., a specific resample built from a given fold/repeat). \n",
    "- **General (aggregate) result** — metrics **averaged across all sub-tests** (and thus implicitly across folds/repeats)."
   ]
  },
  {
   "cell_type": "code",
   "execution_count": 35,
   "id": "8a235337",
   "metadata": {},
   "outputs": [
    {
     "name": "stdout",
     "output_type": "stream",
     "text": [
      "Type of results: <class 'netbalance.evaluation.result.ACrossValidationResult'>\n"
     ]
    }
   ],
   "source": [
    "print(f\"Type of results: {type(results)}\")"
   ]
  },
  {
   "cell_type": "code",
   "execution_count": 36,
   "id": "f9eab3c1",
   "metadata": {},
   "outputs": [
    {
     "name": "stdout",
     "output_type": "stream",
     "text": [
      "Type of sample_results: <class 'netbalance.evaluation.result.Result'>\n"
     ]
    }
   ],
   "source": [
    "sample_results = results.fold_results[0]\n",
    "print(f\"Type of sample_results: {type(sample_results)}\")"
   ]
  },
  {
   "cell_type": "code",
   "execution_count": 37,
   "id": "be371b61",
   "metadata": {},
   "outputs": [
    {
     "data": {
      "text/plain": [
       "0.7240448984302863"
      ]
     },
     "execution_count": 37,
     "metadata": {},
     "output_type": "execute_result"
    }
   ],
   "source": [
    "sample_results.auc  # AUC for the first sub-test set"
   ]
  },
  {
   "cell_type": "code",
   "execution_count": 38,
   "id": "43945cee",
   "metadata": {},
   "outputs": [
    {
     "data": {
      "text/plain": [
       "0.7187218998147276"
      ]
     },
     "execution_count": 38,
     "metadata": {},
     "output_type": "execute_result"
    }
   ],
   "source": [
    "results.result.auc  # Average AUC across all sub-test sets"
   ]
  },
  {
   "cell_type": "markdown",
   "id": "8ca181e6",
   "metadata": {},
   "source": [
    "Now we can perform `process_results` to save the metrics and render figures."
   ]
  },
  {
   "cell_type": "code",
   "execution_count": 39,
   "id": "d051b357",
   "metadata": {},
   "outputs": [
    {
     "name": "stdout",
     "output_type": "stream",
     "text": [
      "\n",
      "Average Results:\n",
      "{'AUC': 0.7187218998147276, 'ACC': 0.6510467866520401, 'F1 Score': 0.6928246721170513, 'AUPR': 0.7048134874795291, 'Loss': 0.0, 'Recall': 0.7872557951007974, 'Precision': 0.6187183661193599, 'MCC': np.float64(0.31412259596851627), 'Max F1': np.float64(0.6984952035166329)}\n",
      "\n",
      "Saved auc list to /Users/ahmadian/Documents/projects/netbalance/src/netbalance/data_repository/processed/rf_tutorial_model/results/aucs/dataset_sanger/train_neg_samp_beta/test_neg_samp_rho_max_iter_20000_delta_0.1_cooling_rate_0.99_initial_temp_40.0_ent_desired_1.0_shrinkage_1.0/aucs.txt\n",
      "\n",
      "Saved max f1 list to /Users/ahmadian/Documents/projects/netbalance/src/netbalance/data_repository/processed/rf_tutorial_model/results/max_f1/dataset_sanger/train_neg_samp_beta/test_neg_samp_rho_max_iter_20000_delta_0.1_cooling_rate_0.99_initial_temp_40.0_ent_desired_1.0_shrinkage_1.0/max_f1s.txt\n",
      "\n",
      "Saved aupr list to /Users/ahmadian/Documents/projects/netbalance/src/netbalance/data_repository/processed/rf_tutorial_model/results/aupr/dataset_sanger/train_neg_samp_beta/test_neg_samp_rho_max_iter_20000_delta_0.1_cooling_rate_0.99_initial_temp_40.0_ent_desired_1.0_shrinkage_1.0/auprs.txt\n",
      "\n",
      "Saved mean precisions list to /Users/ahmadian/Documents/projects/netbalance/src/netbalance/data_repository/processed/rf_tutorial_model/results/mean_precisions/dataset_sanger/train_neg_samp_beta/test_neg_samp_rho_max_iter_20000_delta_0.1_cooling_rate_0.99_initial_temp_40.0_ent_desired_1.0_shrinkage_1.0/mean_precisions.txt\n",
      "\n",
      "Saved mean tprs list to /Users/ahmadian/Documents/projects/netbalance/src/netbalance/data_repository/processed/rf_tutorial_model/results/mean_tprs/dataset_sanger/train_neg_samp_beta/test_neg_samp_rho_max_iter_20000_delta_0.1_cooling_rate_0.99_initial_temp_40.0_ent_desired_1.0_shrinkage_1.0/mean_tprs.txt\n",
      "\n",
      "Saved Hit@K list to /Users/ahmadian/Documents/projects/netbalance/src/netbalance/data_repository/processed/rf_tutorial_model/results/hit_at_k/dataset_sanger/train_neg_samp_beta/test_neg_samp_rho_max_iter_20000_delta_0.1_cooling_rate_0.99_initial_temp_40.0_ent_desired_1.0_shrinkage_1.0/hit_k.txt\n",
      "\n",
      "Hit@K Figure Saved: /Users/ahmadian/Documents/projects/netbalance/src/netbalance/data_repository/processed/rf_tutorial_model/results/hit_at_k/dataset_sanger/train_neg_samp_beta/test_neg_samp_rho_max_iter_20000_delta_0.1_cooling_rate_0.99_initial_temp_40.0_ent_desired_1.0_shrinkage_1.0/hit_k.svg\n",
      "\n",
      "ROC Figure Saved: /Users/ahmadian/Documents/projects/netbalance/src/netbalance/data_repository/processed/rf_tutorial_model/results/roc_fig/dataset_sanger/train_neg_samp_beta/test_neg_samp_rho_max_iter_20000_delta_0.1_cooling_rate_0.99_initial_temp_40.0_ent_desired_1.0_shrinkage_1.0/roc.svg\n",
      "\n",
      "PR Figure Saved: /Users/ahmadian/Documents/projects/netbalance/src/netbalance/data_repository/processed/rf_tutorial_model/results/pr_fig/dataset_sanger/train_neg_samp_beta/test_neg_samp_rho_max_iter_20000_delta_0.1_cooling_rate_0.99_initial_temp_40.0_ent_desired_1.0_shrinkage_1.0/pr.svg\n"
     ]
    },
    {
     "data": {
      "image/png": "[encoded data removed]",
      "text/plain": [
       "<Figure size 400x400 with 1 Axes>"
      ]
     },
     "metadata": {},
     "output_type": "display_data"
    },
    {
     "data": {
      "image/png": "[encoded data removed]",
      "text/plain": [
       "<Figure size 400x400 with 1 Axes>"
      ]
     },
     "metadata": {},
     "output_type": "display_data"
    },
    {
     "data": {
      "image/png": "[encoded data removed]",
      "text/plain": [
       "<Figure size 400x400 with 1 Axes>"
      ]
     },
     "metadata": {},
     "output_type": "display_data"
    }
   ],
   "source": [
    "process_results(\n",
    "    results=results,\n",
    "    result_dir=RTM_RESULTS_DIR,\n",
    "    dataset=dataset,\n",
    "    train_balance_method=train_neg_samp_method,\n",
    "    test_balance_method=test_balance_method,\n",
    "    test_balance_kwargs=test_balance_kwargs,\n",
    ")"
   ]
  }
 ],
 "metadata": {
  "kernelspec": {
   "display_name": "netbalance-py3.12",
   "language": "python",
   "name": "python3"
  },
  "language_info": {
   "codemirror_mode": {
    "name": "ipython",
    "version": 3
   },
   "file_extension": ".py",
   "mimetype": "text/x-python",
   "name": "python",
   "nbconvert_exporter": "python",
   "pygments_lexer": "ipython3",
   "version": "3.12.11"
  }
 },
 "nbformat": 4,
 "nbformat_minor": 5
}
